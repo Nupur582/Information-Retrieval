{
 "cells": [
  {
   "cell_type": "code",
   "execution_count": 1,
   "metadata": {},
   "outputs": [],
   "source": [
    "from urllib.request import urlopen\n",
    "import pandas as pd\n",
    "import json\n",
    "from elasticsearch import Elasticsearch, RequestsHttpConnection\n",
    "from newsapi import NewsApiClient\n",
    "import warnings"
   ]
  },
  {
   "cell_type": "code",
   "execution_count": 2,
   "metadata": {},
   "outputs": [],
   "source": [
    "def Elasticsearch_connection(host_link,user_auth):\n",
    "    warnings.filterwarnings(\"ignore\")\n",
    "    es = Elasticsearch(hosts=host_link ,verify_certs=False,http_auth= user_auth, connection_class=RequestsHttpConnection,)\n",
    "    print(\"ElasticSearch connection has been established and this connection instance is stored in es variable\")\n",
    "    return es"
   ]
  },
  {
   "cell_type": "code",
   "execution_count": 3,
   "metadata": {},
   "outputs": [
    {
     "name": "stdout",
     "output_type": "stream",
     "text": [
      "ElasticSearch connection has been established and this connection instance is stored in es variable\n"
     ]
    }
   ],
   "source": [
    "es = Elasticsearch_connection(['https://tux-es1.cci.drexel.edu:9200/','https://tux-es2.cci.drexel.edu:9200/','https://tux-es3.cci.drexel.edu:9200/'],'id:password')\n",
    "# result = es.search(index='ms4976_info624_201904_project')\n",
    "# doc_id = result['hits']['total']['value']\n",
    "# res = es.search(index='ms4976_info624_201904_project',body={\"from\" : 0, \"size\" : doc_id,\"query\": {\"match_all\" : {}}})\n",
    "# print(type(res))\n"
   ]
  },
  {
   "cell_type": "code",
   "execution_count": 4,
   "metadata": {},
   "outputs": [
    {
     "data": {
      "text/plain": [
       "{'acknowledged': True,\n",
       " 'shards_acknowledged': True,\n",
       " 'index': 'ms4976_info624_201904_newsproject1'}"
      ]
     },
     "execution_count": 4,
     "metadata": {},
     "output_type": "execute_result"
    }
   ],
   "source": [
    "#creating an below index with respective settings\n",
    "index_name = 'ms4976_info624_201904_newsproject1'\n",
    "request_body = {\n",
    "        \"settings\":{\n",
    "            \"index\":{\n",
    "                \"similarity\":{\n",
    "                    \"custom_bm25\":{\n",
    "                        \"type\": \"BM25\",\n",
    "                        \"k1\": 2.0,\n",
    "                        \"b\":1.0\n",
    "                    },\n",
    "                    \"custom_dfr\":{\n",
    "                        \"type\": \"DFR\",\n",
    "                        \"basic_model\": \"g\",\n",
    "                        \"after_effect\": \"l\",\n",
    "                        \"normalization\": \"h2\",\n",
    "                        \"normalization.h2.c\": \"3.0\"\n",
    "                    }\n",
    "                }\n",
    "            }\n",
    "    },\n",
    "\n",
    "        'mappings': {\n",
    "            \n",
    "            \"properties\":{\n",
    "                \"source\":{\n",
    "                    \"type\": \"text\",\n",
    "                    \"analyzer\": \"standard\"\n",
    "                    },\n",
    "                \"author\":{\n",
    "                    \"type\": \"text\" ,\n",
    "                    \"analyzer\": \"standard\",\n",
    "                    \"similarity\": \"boolean\"\n",
    "                    },\n",
    "                \"title\":{\n",
    "                    \"type\": \"text\" ,\n",
    "                    \"analyzer\": \"english\",\n",
    "                    \"similarity\":\"custom_dfr\"\n",
    "                    },\n",
    "     \n",
    "                \"description\":{\n",
    "                    \"type\": \"text\" ,\n",
    "                    \"analyzer\": \"english\",\n",
    "                    \"similarity\":\"custom_bm25\"\n",
    "                    },\n",
    "                 \"url\":{\n",
    "                    \"type\": \"text\"\n",
    "                    },\n",
    "     \n",
    "                \"publishedAt\":{\n",
    "                    \"type\" : \"date\"\n",
    "                    },\n",
    "                \"timestamp\" :{\n",
    "                    \"type\" : \"rank_feature\",\n",
    "                    \"positive_score_impact\" : True  \n",
    "                    }\n",
    "                }\n",
    "            }\n",
    "        }\n",
    "es.indices.create(index = index_name, body = request_body)"
   ]
  },
  {
   "cell_type": "code",
   "execution_count": 5,
   "metadata": {},
   "outputs": [
    {
     "data": {
      "text/plain": [
       "{'took': 6629,\n",
       " 'timed_out': False,\n",
       " 'total': 3561,\n",
       " 'updated': 0,\n",
       " 'created': 3561,\n",
       " 'deleted': 0,\n",
       " 'batches': 4,\n",
       " 'version_conflicts': 0,\n",
       " 'noops': 0,\n",
       " 'retries': {'bulk': 0, 'search': 0},\n",
       " 'throttled_millis': 0,\n",
       " 'requests_per_second': -1.0,\n",
       " 'throttled_until_millis': 0,\n",
       " 'failures': []}"
      ]
     },
     "execution_count": 5,
     "metadata": {},
     "output_type": "execute_result"
    }
   ],
   "source": [
    "#reindexing data to this index from ms4976_info624_201904_project \n",
    "result = es.reindex({\n",
    "        \"source\": {\"index\": 'ms4976_info624_201904_newsproject'},\n",
    "        \"dest\": {\"index\": index_name}\n",
    "    }, wait_for_completion=True, request_timeout=300)\n",
    "result"
   ]
  },
  {
   "cell_type": "code",
   "execution_count": 6,
   "metadata": {},
   "outputs": [
    {
     "data": {
      "text/plain": [
       "{'acknowledged': True,\n",
       " 'shards_acknowledged': True,\n",
       " 'index': 'ms4976_info624_201904_newsproject2'}"
      ]
     },
     "execution_count": 6,
     "metadata": {},
     "output_type": "execute_result"
    }
   ],
   "source": [
    "#creating an below index with respective settings\n",
    "index_name = 'ms4976_info624_201904_newsproject2'\n",
    "request_body = {\n",
    "        \"settings\":{\n",
    "            \"index\":{\n",
    "                \"similarity\":{\n",
    "                    \"custom_bm25\":{\n",
    "                        \"type\": \"BM25\",\n",
    "                        \"k1\": 1.5,\n",
    "                        \"b\":1.0\n",
    "                    },\n",
    "                    \"custom_dfr\":{\n",
    "                        \"type\": \"DFR\",\n",
    "                        \"basic_model\": \"if\",\n",
    "                        \"after_effect\": \"b\",\n",
    "                        \"normalization\": \"h3\",\n",
    "                        \"normalization.h2.c\": \"3.0\"\n",
    "                    }\n",
    "                }\n",
    "            }\n",
    "    },\n",
    "\n",
    "        'mappings': {\n",
    "            \n",
    "            \"properties\":{\n",
    "                \"source\":{\n",
    "                    \"type\": \"text\",\n",
    "                    \"analyzer\": \"standard\"\n",
    "                    },\n",
    "                \"author\":{\n",
    "                    \"type\": \"text\" ,\n",
    "                    \"analyzer\": \"standard\",\n",
    "                    \"similarity\": \"boolean\"\n",
    "                    },\n",
    "                \"title\":{\n",
    "                    \"type\": \"text\" ,\n",
    "                    \"analyzer\": \"english\",\n",
    "                    \"similarity\":\"custom_dfr\"\n",
    "                    },\n",
    "     \n",
    "                \"description\":{\n",
    "                    \"type\": \"text\" ,\n",
    "                    \"analyzer\": \"english\",\n",
    "                    \"similarity\":\"custom_bm25\"\n",
    "                    },\n",
    "                 \"url\":{\n",
    "                    \"type\": \"text\"\n",
    "                    },\n",
    "     \n",
    "                \"publishedAt\":{\n",
    "                    \"type\" : \"date\"\n",
    "                    },\n",
    "                \"timestamp\" :{\n",
    "                    \"type\" : \"rank_feature\",\n",
    "                    \"positive_score_impact\" : True  \n",
    "                    }\n",
    "                }\n",
    "            }\n",
    "        }\n",
    "es.indices.create(index = index_name, body = request_body)"
   ]
  },
  {
   "cell_type": "code",
   "execution_count": 7,
   "metadata": {},
   "outputs": [
    {
     "data": {
      "text/plain": [
       "{'took': 2717,\n",
       " 'timed_out': False,\n",
       " 'total': 3561,\n",
       " 'updated': 0,\n",
       " 'created': 3561,\n",
       " 'deleted': 0,\n",
       " 'batches': 4,\n",
       " 'version_conflicts': 0,\n",
       " 'noops': 0,\n",
       " 'retries': {'bulk': 0, 'search': 0},\n",
       " 'throttled_millis': 0,\n",
       " 'requests_per_second': -1.0,\n",
       " 'throttled_until_millis': 0,\n",
       " 'failures': []}"
      ]
     },
     "execution_count": 7,
     "metadata": {},
     "output_type": "execute_result"
    }
   ],
   "source": [
    "#reindexing data to this index from ms4976_info624_201904_project \n",
    "result = es.reindex({\n",
    "        \"source\": {\"index\": 'ms4976_info624_201904_newsproject'},\n",
    "        \"dest\": {\"index\": index_name}\n",
    "    }, wait_for_completion=True, request_timeout=300)\n",
    "result"
   ]
  },
  {
   "cell_type": "code",
   "execution_count": 8,
   "metadata": {},
   "outputs": [
    {
     "data": {
      "text/plain": [
       "{'acknowledged': True,\n",
       " 'shards_acknowledged': True,\n",
       " 'index': 'ms4976_info624_201904_newsproject3'}"
      ]
     },
     "execution_count": 8,
     "metadata": {},
     "output_type": "execute_result"
    }
   ],
   "source": [
    "#creating an below index with respective settings\n",
    "index_name = 'ms4976_info624_201904_newsproject3'\n",
    "request_body = {\n",
    "        \"settings\":{\n",
    "            \"index\":{\n",
    "                \"similarity\":{\n",
    "                    \"custom_bm25\":{\n",
    "                        \"type\": \"BM25\",\n",
    "                        \"k1\": 1.0,\n",
    "                        \"b\":0.9\n",
    "                    }\n",
    "                }\n",
    "            }\n",
    "        },\n",
    "\n",
    "        'mappings': {\n",
    "            \n",
    "            \"properties\":{\n",
    "                \"source\":{\n",
    "                    \"type\": \"text\",\n",
    "                    \"analyzer\": \"standard\"\n",
    "                    },\n",
    "                \"author\":{\n",
    "                    \"type\": \"text\" ,\n",
    "                    \"analyzer\": \"standard\",\n",
    "                    \"similarity\": \"boolean\"\n",
    "                    },\n",
    "                \"title\":{\n",
    "                    \"type\": \"text\" ,\n",
    "                    \"analyzer\": \"english\",\n",
    "                    \"similarity\":\"custom_bm25\"\n",
    "                    },\n",
    "     \n",
    "                \"description\":{\n",
    "                    \"type\": \"text\" ,\n",
    "                    \"analyzer\": \"english\",\n",
    "                    \"similarity\":\"custom_bm25\"\n",
    "                    },\n",
    "                 \"url\":{\n",
    "                    \"type\": \"text\"\n",
    "                    },\n",
    "     \n",
    "                \"publishedAt\":{\n",
    "                    \"type\" : \"date\"\n",
    "                    },\n",
    "                \"timestamp\" :{\n",
    "                    \"type\" : \"rank_feature\",\n",
    "                    \"positive_score_impact\" : True  \n",
    "                    }\n",
    "                }\n",
    "            }\n",
    "        }\n",
    "es.indices.create(index = index_name, body = request_body)"
   ]
  },
  {
   "cell_type": "code",
   "execution_count": 9,
   "metadata": {},
   "outputs": [
    {
     "data": {
      "text/plain": [
       "{'took': 1807,\n",
       " 'timed_out': False,\n",
       " 'total': 3561,\n",
       " 'updated': 0,\n",
       " 'created': 3561,\n",
       " 'deleted': 0,\n",
       " 'batches': 4,\n",
       " 'version_conflicts': 0,\n",
       " 'noops': 0,\n",
       " 'retries': {'bulk': 0, 'search': 0},\n",
       " 'throttled_millis': 0,\n",
       " 'requests_per_second': -1.0,\n",
       " 'throttled_until_millis': 0,\n",
       " 'failures': []}"
      ]
     },
     "execution_count": 9,
     "metadata": {},
     "output_type": "execute_result"
    }
   ],
   "source": [
    "#reindexing data to this index from ms4976_info624_201904_project \n",
    "result = es.reindex({\n",
    "        \"source\": {\"index\": 'ms4976_info624_201904_newsproject'},\n",
    "        \"dest\": {\"index\": index_name}\n",
    "    }, wait_for_completion=True, request_timeout=300)\n",
    "result"
   ]
  },
  {
   "cell_type": "code",
   "execution_count": 11,
   "metadata": {},
   "outputs": [
    {
     "data": {
      "text/plain": [
       "{'acknowledged': True,\n",
       " 'shards_acknowledged': True,\n",
       " 'index': 'ms4976_info624_201904_newsproject4'}"
      ]
     },
     "execution_count": 11,
     "metadata": {},
     "output_type": "execute_result"
    }
   ],
   "source": [
    "#creating an below index with respective settings\n",
    "index_name = 'ms4976_info624_201904_newsproject4'\n",
    "request_body = {\n",
    "        \"settings\":{\n",
    "            \"index\":{\n",
    "                \"similarity\":{\n",
    "                    \"custom_dfr\":{\n",
    "                        \"type\": \"DFR\",\n",
    "                        \"basic_model\": \"ine\",\n",
    "                        \"after_effect\": \"b\",\n",
    "                        \"normalization\": \"z\",\n",
    "                        \"normalization.h2.c\": \"3.0\"\n",
    "                    }\n",
    "                }\n",
    "            }\n",
    "    },\n",
    "\n",
    "        'mappings': {\n",
    "            \n",
    "            \"properties\":{\n",
    "                \"source\":{\n",
    "                    \"type\": \"text\",\n",
    "                    \"analyzer\": \"standard\"\n",
    "                    },\n",
    "                \"author\":{\n",
    "                    \"type\": \"text\" ,\n",
    "                    \"analyzer\": \"standard\",\n",
    "                    \"similarity\": \"boolean\"\n",
    "                    },\n",
    "                \"title\":{\n",
    "                    \"type\": \"text\" ,\n",
    "                    \"analyzer\": \"english\",\n",
    "                    \"similarity\":\"custom_dfr\"\n",
    "                    },\n",
    "     \n",
    "                \"description\":{\n",
    "                    \"type\": \"text\" ,\n",
    "                    \"analyzer\": \"english\",\n",
    "                    \"similarity\":\"custom_dfr\"\n",
    "                    },\n",
    "                 \"url\":{\n",
    "                    \"type\": \"text\"\n",
    "                    },\n",
    "     \n",
    "                \"publishedAt\":{\n",
    "                    \"type\" : \"date\"\n",
    "                    },\n",
    "                \"timestamp\" :{\n",
    "                    \"type\" : \"rank_feature\",\n",
    "                    \"positive_score_impact\" : True  \n",
    "                    }\n",
    "                }\n",
    "            }\n",
    "        }\n",
    "es.indices.create(index = index_name, body = request_body)"
   ]
  },
  {
   "cell_type": "code",
   "execution_count": 12,
   "metadata": {},
   "outputs": [
    {
     "data": {
      "text/plain": [
       "{'took': 4479,\n",
       " 'timed_out': False,\n",
       " 'total': 3561,\n",
       " 'updated': 0,\n",
       " 'created': 3561,\n",
       " 'deleted': 0,\n",
       " 'batches': 4,\n",
       " 'version_conflicts': 0,\n",
       " 'noops': 0,\n",
       " 'retries': {'bulk': 0, 'search': 0},\n",
       " 'throttled_millis': 0,\n",
       " 'requests_per_second': -1.0,\n",
       " 'throttled_until_millis': 0,\n",
       " 'failures': []}"
      ]
     },
     "execution_count": 12,
     "metadata": {},
     "output_type": "execute_result"
    }
   ],
   "source": [
    "#reindexing data to this index from ms4976_info624_201904_project \n",
    "result = es.reindex({\n",
    "        \"source\": {\"index\": 'ms4976_info624_201904_newsproject'},\n",
    "        \"dest\": {\"index\": index_name}\n",
    "    }, wait_for_completion=True, request_timeout=300)\n",
    "result"
   ]
  },
  {
   "cell_type": "markdown",
   "metadata": {},
   "source": [
    "#### NOTE: The next part of Evaluation has been done in jupyter notebook called: Evaluation."
   ]
  },
  {
   "cell_type": "code",
   "execution_count": null,
   "metadata": {},
   "outputs": [],
   "source": []
  }
 ],
 "metadata": {
  "kernelspec": {
   "display_name": "Python 3",
   "language": "python",
   "name": "python3"
  },
  "language_info": {
   "codemirror_mode": {
    "name": "ipython",
    "version": 3
   },
   "file_extension": ".py",
   "mimetype": "text/x-python",
   "name": "python",
   "nbconvert_exporter": "python",
   "pygments_lexer": "ipython3",
   "version": "3.7.6"
  }
 },
 "nbformat": 4,
 "nbformat_minor": 4
}
